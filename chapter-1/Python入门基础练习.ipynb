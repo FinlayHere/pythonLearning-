{
 "cells": [
  {
   "cell_type": "markdown",
   "metadata": {},
   "source": [
    "# 第一章练习\n",
    "## 基础部分\n",
    "1. 判断n是不是m的倍数"
   ]
  },
  {
   "cell_type": "code",
   "execution_count": 14,
   "metadata": {},
   "outputs": [],
   "source": [
    "def is_multiple(n,m):\n",
    "    if n == 0:\n",
    "        print('n should not be zero')\n",
    "    else:\n",
    "        try:\n",
    "            res = n%m \n",
    "            if res == 0:\n",
    "                return True\n",
    "            else:\n",
    "                return False\n",
    "        except ZeroDivisionError:\n",
    "            print('m should not be zero')"
   ]
  },
  {
   "cell_type": "code",
   "execution_count": 15,
   "metadata": {},
   "outputs": [
    {
     "name": "stdout",
     "output_type": "stream",
     "text": [
      "m should not be zero\n"
     ]
    }
   ],
   "source": [
    "is_multiple(1,0)"
   ]
  },
  {
   "cell_type": "code",
   "execution_count": 16,
   "metadata": {},
   "outputs": [
    {
     "name": "stdout",
     "output_type": "stream",
     "text": [
      "n should not be zero\n"
     ]
    }
   ],
   "source": [
    "is_multiple(0,1)"
   ]
  },
  {
   "cell_type": "code",
   "execution_count": 17,
   "metadata": {},
   "outputs": [
    {
     "data": {
      "text/plain": [
       "True"
      ]
     },
     "execution_count": 17,
     "metadata": {},
     "output_type": "execute_result"
    }
   ],
   "source": [
    "is_multiple(10,2)"
   ]
  },
  {
   "cell_type": "code",
   "execution_count": 18,
   "metadata": {},
   "outputs": [
    {
     "data": {
      "text/plain": [
       "False"
      ]
     },
     "execution_count": 18,
     "metadata": {},
     "output_type": "execute_result"
    }
   ],
   "source": [
    "is_multiple(5,4)"
   ]
  },
  {
   "cell_type": "markdown",
   "metadata": {},
   "source": [
    "2. 判断是不是偶数，不能用乘法，除法，取余数操作"
   ]
  },
  {
   "cell_type": "code",
   "execution_count": 30,
   "metadata": {},
   "outputs": [],
   "source": [
    "def is_even(k):  # 判断k是不是偶数\n",
    "    try:\n",
    "        if 1 & k == 0:  # 如果一个整数与1进行与运算的结果为0，这个数为偶数 反之则为奇数\n",
    "            return True\n",
    "        else:\n",
    "            return False\n",
    "    except TypeError:\n",
    "        print('k should be a integer')"
   ]
  },
  {
   "cell_type": "code",
   "execution_count": 31,
   "metadata": {},
   "outputs": [
    {
     "name": "stdout",
     "output_type": "stream",
     "text": [
      "k should be a integer\n"
     ]
    }
   ],
   "source": [
    "is_even(0.1)"
   ]
  },
  {
   "cell_type": "code",
   "execution_count": 32,
   "metadata": {},
   "outputs": [
    {
     "data": {
      "text/plain": [
       "False"
      ]
     },
     "execution_count": 32,
     "metadata": {},
     "output_type": "execute_result"
    }
   ],
   "source": [
    "is_even(5)"
   ]
  },
  {
   "cell_type": "code",
   "execution_count": 33,
   "metadata": {},
   "outputs": [
    {
     "data": {
      "text/plain": [
       "True"
      ]
     },
     "execution_count": 33,
     "metadata": {},
     "output_type": "execute_result"
    }
   ],
   "source": [
    "is_even(6)"
   ]
  },
  {
   "cell_type": "markdown",
   "metadata": {},
   "source": [
    "3. 寻找序列中的最大最小值，不能用max和min"
   ]
  },
  {
   "cell_type": "code",
   "execution_count": 73,
   "metadata": {},
   "outputs": [],
   "source": [
    "def minmax(data):\n",
    "    if isinstance(data,str):\n",
    "        print('data should not be string')\n",
    "    else:\n",
    "        try:\n",
    "            max_value = data[0]\n",
    "            min_value = data[0]\n",
    "            for i in range(1,len(data)-1):\n",
    "                cur_max = data[i+1]\n",
    "                cur_min = data[i]\n",
    "                if data[i+1] < data[i]:\n",
    "                    cur_max = data[i]\n",
    "                    cur_min = data[i+1]\n",
    "                if max_value < cur_max:\n",
    "                    max_value = cur_max\n",
    "                if min_value > cur_min:\n",
    "                    min_value = cur_min    \n",
    "            return (min_value,max_value)\n",
    "        except TypeError:\n",
    "            print('data should be iterable or should be numeric')\n",
    "        "
   ]
  },
  {
   "cell_type": "code",
   "execution_count": 74,
   "metadata": {},
   "outputs": [
    {
     "name": "stdout",
     "output_type": "stream",
     "text": [
      "data should not be string\n"
     ]
    }
   ],
   "source": [
    "minmax('hello')"
   ]
  },
  {
   "cell_type": "code",
   "execution_count": 75,
   "metadata": {},
   "outputs": [
    {
     "name": "stdout",
     "output_type": "stream",
     "text": [
      "data should be iterable or should be numeric\n"
     ]
    }
   ],
   "source": [
    "minmax(1)"
   ]
  },
  {
   "cell_type": "code",
   "execution_count": 76,
   "metadata": {},
   "outputs": [
    {
     "name": "stdout",
     "output_type": "stream",
     "text": [
      "data should be iterable or should be numeric\n"
     ]
    }
   ],
   "source": [
    "minmax([123,0,122,34,'hello'])"
   ]
  },
  {
   "cell_type": "code",
   "execution_count": 77,
   "metadata": {},
   "outputs": [
    {
     "data": {
      "text/plain": [
       "(-123, 12344)"
      ]
     },
     "execution_count": 77,
     "metadata": {},
     "output_type": "execute_result"
    }
   ],
   "source": [
    "minmax([123,0,122,34,1234,-123,12344])"
   ]
  },
  {
   "cell_type": "markdown",
   "metadata": {},
   "source": [
    "4. 求1～n的平方和"
   ]
  },
  {
   "cell_type": "code",
   "execution_count": 66,
   "metadata": {},
   "outputs": [
    {
     "data": {
      "text/plain": [
       "385"
      ]
     },
     "execution_count": 66,
     "metadata": {},
     "output_type": "execute_result"
    }
   ],
   "source": [
    "def sum_of_square(n):\n",
    "    if n <= 0:\n",
    "        print('n should over than 0')\n",
    "    else:\n",
    "        try:\n",
    "            res = 0\n",
    "            for i in range(1,n+1):\n",
    "                res += i**2\n",
    "            return res\n",
    "        except TypeError:\n",
    "            print(\"n should be an integer\")\n",
    "sum_of_square(10)"
   ]
  },
  {
   "cell_type": "markdown",
   "metadata": {},
   "source": [
    "5. 求1～n的平方和 (单独命令)"
   ]
  },
  {
   "cell_type": "code",
   "execution_count": 65,
   "metadata": {},
   "outputs": [
    {
     "data": {
      "text/plain": [
       "385.0"
      ]
     },
     "execution_count": 65,
     "metadata": {},
     "output_type": "execute_result"
    }
   ],
   "source": [
    "def sum_of_square_sp(n):\n",
    "    if n <= 0:\n",
    "        print('n should over than 0')\n",
    "    else:\n",
    "        try:\n",
    "            return (n*(n+1)*((n<<1) + 1))/6\n",
    "        except TypeError:\n",
    "            print('n should be an integer')\n",
    "sum_of_square_sp(10)"
   ]
  },
  {
   "cell_type": "markdown",
   "metadata": {},
   "source": [
    "6. n以内所有奇数的平方和"
   ]
  },
  {
   "cell_type": "code",
   "execution_count": 85,
   "metadata": {},
   "outputs": [
    {
     "data": {
      "text/plain": [
       "10"
      ]
     },
     "execution_count": 85,
     "metadata": {},
     "output_type": "execute_result"
    }
   ],
   "source": [
    "def sum_of_odd_square(n):\n",
    "    if n <= 0:\n",
    "        print('n should over than 0')\n",
    "    else:\n",
    "        try:\n",
    "            res = 0\n",
    "            for i in range(1,n+1,2):\n",
    "                res += i**2\n",
    "            return res\n",
    "        except TypeError:\n",
    "            print(\"n should be an integer\")\n",
    "sum_of_odd_square(3)"
   ]
  },
  {
   "cell_type": "markdown",
   "metadata": {},
   "source": [
    "7. 使用sum计算"
   ]
  },
  {
   "cell_type": "code",
   "execution_count": 87,
   "metadata": {},
   "outputs": [
    {
     "data": {
      "text/plain": [
       "10"
      ]
     },
     "execution_count": 87,
     "metadata": {},
     "output_type": "execute_result"
    }
   ],
   "source": [
    "def sum_of_odd_square_sum(n):\n",
    "    if n <= 0:\n",
    "        print('n should over than 0')\n",
    "    else:\n",
    "        try:\n",
    "            res = []\n",
    "            for i in range(1,n+1,2):\n",
    "                res.append(i**2) \n",
    "            return sum(res)\n",
    "        except TypeError:\n",
    "            print(\"n should be an integer\")\n",
    "sum_of_odd_square_sum(3)"
   ]
  },
  {
   "cell_type": "markdown",
   "metadata": {},
   "source": [
    "8. 用range生成50,60,70,80"
   ]
  },
  {
   "cell_type": "code",
   "execution_count": 90,
   "metadata": {},
   "outputs": [
    {
     "name": "stdout",
     "output_type": "stream",
     "text": [
      "50\n",
      "60\n",
      "70\n",
      "80\n"
     ]
    }
   ],
   "source": [
    "for i in range(50,81,10):\n",
    "    print(i)"
   ]
  },
  {
   "cell_type": "markdown",
   "metadata": {},
   "source": [
    "9. 用range生成8,6,4,2,0,-2,-4,-6,-8"
   ]
  },
  {
   "cell_type": "code",
   "execution_count": 93,
   "metadata": {},
   "outputs": [
    {
     "name": "stdout",
     "output_type": "stream",
     "text": [
      "8\n",
      "6\n",
      "4\n",
      "2\n",
      "0\n",
      "-2\n",
      "-4\n",
      "-6\n",
      "-8\n"
     ]
    }
   ],
   "source": [
    "for i in range(8,-9,-2):\n",
    "    print(i)"
   ]
  },
  {
   "cell_type": "markdown",
   "metadata": {},
   "source": [
    "10. 使用Python 列表语法生成[1,2,4,8...256]"
   ]
  },
  {
   "cell_type": "code",
   "execution_count": 96,
   "metadata": {},
   "outputs": [
    {
     "data": {
      "text/plain": [
       "[1, 2, 4, 8, 16, 32, 64, 128, 256]"
      ]
     },
     "execution_count": 96,
     "metadata": {},
     "output_type": "execute_result"
    }
   ],
   "source": [
    "[2**n for n in range(9)]"
   ]
  },
  {
   "cell_type": "code",
   "execution_count": null,
   "metadata": {},
   "outputs": [],
   "source": []
  }
 ],
 "metadata": {
  "kernelspec": {
   "display_name": "Python 3",
   "language": "python",
   "name": "python3"
  },
  "language_info": {
   "codemirror_mode": {
    "name": "ipython",
    "version": 3
   },
   "file_extension": ".py",
   "mimetype": "text/x-python",
   "name": "python",
   "nbconvert_exporter": "python",
   "pygments_lexer": "ipython3",
   "version": "3.7.3"
  }
 },
 "nbformat": 4,
 "nbformat_minor": 2
}
